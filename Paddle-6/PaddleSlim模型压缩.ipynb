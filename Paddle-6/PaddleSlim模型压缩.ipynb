{
 "nbformat": 4,
 "nbformat_minor": 2,
 "metadata": {
  "language_info": {
   "name": "python",
   "codemirror_mode": {
    "name": "ipython",
    "version": 3
   }
  },
  "orig_nbformat": 2,
  "file_extension": ".py",
  "mimetype": "text/x-python",
  "name": "python",
  "npconvert_exporter": "python",
  "pygments_lexer": "ipython3",
  "version": 3
 },
 "cells": [
  {
   "cell_type": "code",
   "execution_count": null,
   "metadata": {},
   "outputs": [],
   "source": [
    "＃安装paddleslim\n",
    "!pip install paddleslim\n"
   ]
  },
  {
   "cell_type": "code",
   "execution_count": null,
   "metadata": {},
   "outputs": [],
   "source": [
    "＃导入依赖\n",
    "import paddle\n",
    "import paddle.fluid as fluid\n",
    "import paddleslim as slim\n",
    "import numpy as np"
   ]
  },
  {
   "cell_type": "code",
   "execution_count": null,
   "metadata": {},
   "outputs": [],
   "source": [
    "＃构建模型\n",
    "use_gpu = fluid.is_compiled_with_cuda()\n",
    "exe, train_program, val_program, inputs, outputs = slim.models.image_classification(\"MobileNet\", [1, 28, 28], 10, use_gpu=use_gpu)\n",
    "place = fluid.CUDAPlace(0) if fluid.is_compiled_with_cuda() else fluid.CPUPlace()"
   ]
  },
  {
   "cell_type": "code",
   "execution_count": null,
   "metadata": {},
   "outputs": [],
   "source": [
    "＃定义输入数据\n",
    "import paddle.dataset.mnist as reader\n",
    "train_reader = paddle.batch(\n",
    "        reader.train(), batch_size=128, drop_last=True)\n",
    "test_reader = paddle.batch(\n",
    "        reader.test(), batch_size=128, drop_last=True)\n",
    "data_feeder = fluid.DataFeeder(inputs, place)"
   ]
  },
  {
   "cell_type": "code",
   "execution_count": null,
   "metadata": {},
   "outputs": [],
   "source": [
    "＃训练和测试　　先定义训练和测试函数，正常训练和量化训练时只需要调用函数即可。在训练函数中执行了一个epoch的训练，因为MNIST数据集数据较少，一个epoch就可将top1精度训练到95%以上。\n",
    "def train(prog):\n",
    "    iter = 0\n",
    "    for data in train_reader():\n",
    "        acc1, acc5, loss = exe.run(prog, feed=data_feeder.feed(data), fetch_list=outputs)\n",
    "        if iter % 100 == 0:\n",
    "            print('train iter={}, top1={}, top5={}, loss={}'.format(iter, acc1.mean(), acc5.mean(), loss.mean()))\n",
    "        iter += 1\n",
    "        \n",
    "def test(prog):\n",
    "    iter = 0\n",
    "    res = [[], []]\n",
    "    for data in test_reader():\n",
    "        acc1, acc5, loss = exe.run(prog, feed=data_feeder.feed(data), fetch_list=outputs)\n",
    "        if iter % 100 == 0:\n",
    "            print('test iter={}, top1={}, top5={}, loss={}'.format(iter, acc1.mean(), acc5.mean(), loss.mean()))\n",
    "        res[0].append(acc1.mean())\n",
    "        res[1].append(acc5.mean())\n",
    "        iter += 1\n",
    "    print('final test result top1={}, top5={}'.format(np.array(res[0]).mean(), np.array(res[1]).mean()))"
   ]
  },
  {
   "cell_type": "code",
   "execution_count": null,
   "metadata": {},
   "outputs": [],
   "source": [
    "train(train_program)\n",
    "train iter=0, top1=0.109375, top5=0.4921875, loss=2.6497092247\n",
    "train iter=100, top1=0.9296875, top5=1.0, loss=0.231126576662\n",
    "train iter=200, top1=0.9609375, top5=1.0, loss=0.163963362575\n",
    "train iter=300, top1=0.96875, top5=0.9921875, loss=0.169646322727\n",
    "# train iter=400, top1=0.9453125, top5=1.0, loss=0.185211241245\n",
    "\n",
    "＃调用test函# 测试分类网络，val_program是在第2步：构建网络中定义的。"
   ]
  },
  {
   "cell_type": "code",
   "execution_count": null,
   "metadata": {},
   "outputs": [],
   "source": [
    "test(val_program)\n",
    "test iter=0, top1=0.984375, top5=1.0, loss=0.0616650208831\n",
    "final test result top1=0.971654653549, top5=0.999098539352"
   ]
  },
  {
   "cell_type": "code",
   "execution_count": null,
   "metadata": {},
   "outputs": [],
   "source": [
    "＃量化模型\n",
    "place = exe.place\n",
    "quant_program = slim.quant.quant_aware(train_program, exe.place, for_test=False)\n",
    "val_quant_program = slim.quant.quant_aware(val_program, exe.place, for_test=True)"
   ]
  },
  {
   "cell_type": "code",
   "execution_count": null,
   "metadata": {},
   "outputs": [],
   "source": [
    "＃训练和测试量化后的模型\n",
    "train(quant_program)\n",
    "train iter=0, top1=0.96875, top5=1.0, loss=0.0923340842128\n",
    "train iter=100, top1=0.9765625, top5=1.0, loss=0.0619144812226\n",
    "train iter=200, top1=0.984375, top5=1.0, loss=0.0748545378447\n",
    "train iter=300, top1=0.984375, top5=1.0, loss=0.0823880583048\n",
    "# train iter=400, top1=0.9453125, top5=1.0, loss=0.136059805751\n",
    "\n",
    "测试量化后的模型# ，和3.2 训练和测试中得到的测试结果相比，精度相近，达到了无损量化。"
   ]
  },
  {
   "cell_type": "code",
   "execution_count": null,
   "metadata": {},
   "outputs": [],
   "source": [
    "test(val_quant_program)\n",
    "test iter=0, top1=0.984375, top5=1.0, loss=0.0461478419602\n",
    "# final test result top1=0.974258840084, top5=0.999098539352"
   ]
  }
 ]
}